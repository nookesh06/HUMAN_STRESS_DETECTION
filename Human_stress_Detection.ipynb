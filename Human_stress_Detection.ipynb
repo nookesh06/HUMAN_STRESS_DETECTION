{
 "cells": [
  {
   "cell_type": "code",
   "execution_count": null,
   "id": "13f52d59",
   "metadata": {},
   "outputs": [
    {
     "name": "stdout",
     "output_type": "stream",
     "text": [
      "Training score: 0.6071428571428571\n",
      "Testing score: 0.5555555555555556\n",
      "Your stress level is medium.\n"
     ]
    }
   ],
   "source": [
    "# Import necessary libraries\n",
    "from sklearn.ensemble import AdaBoostClassifier\n",
    "from sklearn.model_selection import train_test_split\n",
    "from sklearn.feature_selection import SelectKBest, mutual_info_classif\n",
    "import pandas as pd\n",
    "\n",
    "# Load the data\n",
    "df = pd.read_csv('C:\\\\Users\\\\user\\\\Downloads\\\\SaYoPillow.csv')\n",
    "df.columns = ['snoring range', 'respiration rate', 'body temperature', 'lemb moment', 'blood oxygen levels', 'eye movement', 'number of hours of sleep', 'heart rate', 'Stress Levels']\n",
    "\n",
    "# Feature selection\n",
    "X = df.drop('Stress Levels', axis=1)\n",
    "y = df['Stress Levels']\n",
    "selector = SelectKBest(mutual_info_classif, k=8)\n",
    "X_new = selector.fit_transform(X, y)\n",
    "\n",
    "# Split the data\n",
    "X_train, X_test, y_train, y_test = train_test_split(X_new, y, test_size=0.2, random_state=42)\n",
    "\n",
    "# Train the model\n",
    "model = AdaBoostClassifier()\n",
    "model.fit(X_train, y_train)\n",
    "\n",
    "# Evaluate the model\n",
    "print(f'Training score: {model.score(X_train, y_train)}')\n",
    "print(f'Testing score: {model.score(X_test, y_test)}')\n",
    "\n",
    "# User input\n",
    "snoring_range = float(input(\"Enter your snoring range: \"))\n",
    "respiration_rate = float(input(\"Enter your respiration rate: \"))\n",
    "body_temperature = float(input(\"Enter your body temperature: \"))\n",
    "lemb_moment = float(input(\"Enter your limb moment: \"))\n",
    "blood_oxygen_levels = float(input(\"Enter your blood oxygen levels: \"))\n",
    "eye_movement = float(input(\"Enter your eye movement: \"))\n",
    "hours_of_sleep = float(input(\"Enter your number of hours of sleep: \"))\n",
    "heart_rate = float(input(\"Enter your heart rate: \"))\n",
    "\n",
    "# Create a DataFrame from the user input\n",
    "user_df = pd.DataFrame(data=[[snoring_range, respiration_rate, body_temperature, lemb_moment, blood_oxygen_levels, eye_movement, hours_of_sleep, heart_rate]])\n",
    "\n",
    "# Make a prediction\n",
    "prediction = model.predict(user_df)\n",
    "\n",
    "# Print the prediction\n",
    "if prediction == 0:\n",
    "    print(\"Your stress level is low.\")\n",
    "elif prediction == 1:\n",
    "    print(\"Your stress level is medium.\")\n",
    "else:\n",
    "    print(\"Your stress level is high.\")"
   ]
  },
  {
   "cell_type": "code",
   "execution_count": null,
   "id": "a66775ff",
   "metadata": {},
   "outputs": [],
   "source": []
  }
 ],
 "metadata": {
  "kernelspec": {
   "display_name": "Python 3 (ipykernel)",
   "language": "python",
   "name": "python3"
  },
  "language_info": {
   "codemirror_mode": {
    "name": "ipython",
    "version": 3
   },
   "file_extension": ".py",
   "mimetype": "text/x-python",
   "name": "python",
   "nbconvert_exporter": "python",
   "pygments_lexer": "ipython3",
   "version": "3.11.7"
  }
 },
 "nbformat": 4,
 "nbformat_minor": 5
}
